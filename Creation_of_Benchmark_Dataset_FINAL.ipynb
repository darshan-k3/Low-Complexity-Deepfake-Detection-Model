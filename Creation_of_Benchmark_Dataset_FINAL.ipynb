{
  "cells": [
    {
      "cell_type": "markdown",
      "metadata": {
        "colab_type": "text",
        "id": "view-in-github"
      },
      "source": [
        "<a href=\"https://colab.research.google.com/github/darshan-k3/Low-Complexity-Deepfake-Detection-Model/blob/main/Creation_of_Benchmark_Dataset_FINAL.ipynb\" target=\"_parent\"><img src=\"https://colab.research.google.com/assets/colab-badge.svg\" alt=\"Open In Colab\"/></a>"
      ]
    },
    {
      "cell_type": "code",
      "execution_count": null,
      "metadata": {},
      "outputs": [],
      "source": [
        "# This script demonstrates how the benchmark dataset was created.\n",
        "# @author 21004275"
      ]
    },
    {
      "cell_type": "code",
      "execution_count": null,
      "metadata": {
        "cellView": "form",
        "id": "_lflm0HXP6g9"
      },
      "outputs": [],
      "source": [
        "#@title 0. Creation of Benchmark Dataset\n",
        "import os\n",
        "import random\n",
        "from collections import defaultdict\n",
        "\n",
        "# Define base directories\n",
        "base_dirs = {\n",
        "    '/content/drive/MyDrive/FakeAVCeleb_v1.2_full/FakeAVCeleb_v1.2/RealVideo-RealAudio': (0, 0),\n",
        "    '/content/drive/MyDrive/FakeAVCeleb_v1.2_full/FakeAVCeleb_v1.2/RealVideo-FakeAudio': (0, 1),\n",
        "    '/content/drive/MyDrive/FakeAVCeleb_v1.2_full/FakeAVCeleb_v1.2/FakeVideo-RealAudio': (1, 0),\n",
        "    '/content/drive/MyDrive/FakeAVCeleb_v1.2_full/FakeAVCeleb_v1.2/FakeVideo-FakeAudio': (1, 1)\n",
        "}\n",
        "\n",
        "ethnicities = ['Caucasian (European)', 'Asian (East)', 'Asian (South)', 'African', 'Caucasian (American)']\n",
        "sexes = ['men', 'women']\n",
        "\n",
        "# /content/drive/MyDrive/FakeAVCeleb_v1.2_full/FakeAVCeleb_v1.2/RealVideo-RealAudio/Caucasian (European)/men/id03205\n",
        "def collect_representative_files(base_dir):\n",
        "    video_files = []\n",
        "    for root, _, files in os.walk(base_dir):\n",
        "        for file in files:\n",
        "            if file.endswith('.mp4'):\n",
        "                video_files.append(os.path.join(root, file))\n",
        "    final_paths = []\n",
        "    for eth in ethnicities:\n",
        "        for sex in sexes:\n",
        "            # Filter and sample in one step\n",
        "            filtered_paths = [path for path in video_files if eth == path.split('/')[-4] and sex == path.split('/')[-3]]\n",
        "            # if len(filtered_paths) < 20:\n",
        "            # print(f\"Warning: Only found {len(filtered_paths)} videos for {eth}, {sex} in {base_dir}\")\n",
        "            final_paths.extend(random.sample(filtered_paths, 20))\n",
        "            print(f'{eth}, {sex} with final paths length {len(final_paths)}')\n",
        "\n",
        "    print(len(final_paths))\n",
        "    return final_paths\n",
        "\n",
        "# Prepare the training data\n",
        "# for base_dir, label in base_dirs.items():\n",
        "#     random_files = collect_representative_files(base_dir)\n",
        "#     training_path_dict.update({file: label for file in random_files})\n",
        "\n",
        "training_path_dict = defaultdict()\n",
        "test_list = []\n",
        "for base_dir, label in base_dirs.items():\n",
        "    random_files = collect_representative_files(base_dir)\n",
        "    # Update keys to be tuples of (file_path, label), ensuring uniqueness\n",
        "    for file in random_files:\n",
        "        test_list.append(file)\n",
        "        # This creates a unique key for each file by combining its path and the label\n",
        "        training_path_dict[(file, label)] = label\n",
        "# Now, training_path_dict contains the paths and labels\n"
      ]
    },
    {
      "cell_type": "code",
      "execution_count": null,
      "metadata": {
        "colab": {
          "base_uri": "https://localhost:8080/"
        },
        "id": "68WoYZqIUO1r",
        "outputId": "ab4c5b1b-2810-45d9-c78f-8ad41c5bbf7d"
      },
      "outputs": [
        {
          "data": {
            "text/plain": [
              "800"
            ]
          },
          "execution_count": 57,
          "metadata": {},
          "output_type": "execute_result"
        }
      ],
      "source": [
        "len(training_path_dict)"
      ]
    },
    {
      "cell_type": "code",
      "execution_count": null,
      "metadata": {
        "cellView": "form",
        "colab": {
          "base_uri": "https://localhost:8080/"
        },
        "id": "I6gVlb1HWi0k",
        "outputId": "c488940a-c810-4948-b54b-04a5b8afa210"
      },
      "outputs": [
        {
          "data": {
            "text/plain": [
              "[]"
            ]
          },
          "execution_count": 74,
          "metadata": {},
          "output_type": "execute_result"
        }
      ],
      "source": [
        "#@title 0.1. Identify duplicates in the list\n",
        "def identify_duplicates(input_list):\n",
        "    seen = set()\n",
        "    duplicates = set()\n",
        "    for item in input_list:\n",
        "        # If the item is already in seen, add to duplicates\n",
        "        if item in seen:\n",
        "            duplicates.add(item)\n",
        "        else:\n",
        "            seen.add(item)\n",
        "    return list(duplicates)\n",
        "lst = identify_duplicates(training_path_dict)\n",
        "\n",
        "lst"
      ]
    },
    {
      "cell_type": "code",
      "execution_count": null,
      "metadata": {
        "cellView": "form",
        "id": "G2amvRauyOMZ"
      },
      "outputs": [],
      "source": [
        "#@title 0.2. Copy out to relevant folders\n",
        "import shutil\n",
        "import os\n",
        "\n",
        "real_real_dir = os.path.join('benchmark_dataset', 'RealVideo-RealAudio')\n",
        "real_fake_dir = os.path.join('benchmark_dataset', 'RealVideo-FakeAudio')\n",
        "fake_real_dir = os.path.join('benchmark_dataset', 'FakeVideo-RealAudio')\n",
        "fake_fake_dir = os.path.join('benchmark_dataset', 'FakeVideo-FakeAudio')\n",
        "\n",
        "os.makedirs(real_real_dir, exist_ok=True)\n",
        "os.makedirs(real_fake_dir, exist_ok=True)\n",
        "os.makedirs(fake_real_dir, exist_ok=True)\n",
        "os.makedirs(fake_fake_dir, exist_ok=True)\n",
        "\n",
        "\n",
        "for path, label in training_path_dict.items():\n",
        "  if label == (0, 0): # real video real audio\n",
        "    shutil.copy(path[0], os.path.join(real_real_dir, \"_\".join(path[0].split('/')[-3:])))\n",
        "  if label == (0, 1): # real video fake audio\n",
        "    shutil.copy(path[0], os.path.join(real_fake_dir, \"_\".join(path[0].split('/')[-3:])))\n",
        "  if label == (1, 0): # fake video real audio\n",
        "    shutil.copy(path[0], os.path.join(fake_real_dir, \"_\".join(path[0].split('/')[-3:])))\n",
        "  if label == (1, 1): # fake video fake audio\n",
        "    shutil.copy(path[0], os.path.join(fake_fake_dir, \"_\".join(path[0].split('/')[-3:])))\n"
      ]
    },
    {
      "cell_type": "code",
      "execution_count": null,
      "metadata": {
        "cellView": "form",
        "colab": {
          "base_uri": "https://localhost:8080/"
        },
        "id": "cTZ9-IQp1pDf",
        "outputId": "7a412d5d-9836-448c-cd96-0fcb27e0bf59"
      },
      "outputs": [
        {
          "data": {
            "text/plain": [
              "200"
            ]
          },
          "execution_count": 96,
          "metadata": {},
          "output_type": "execute_result"
        }
      ],
      "source": [
        "#@title 0.3. Check that folder was properly created.\n",
        "len(os.listdir(os.path.join('benchmark_dataset', 'FakeVideo-FakeAudio')))"
      ]
    },
    {
      "cell_type": "code",
      "execution_count": null,
      "metadata": {
        "cellView": "form",
        "id": "AwOaKC0T5uA_"
      },
      "outputs": [],
      "source": [
        "#@title 0.4. Zip Benchmark Dataset\n",
        "# !zip -r benchmark_dataset.zip benchmark_dataset"
      ]
    },
    {
      "cell_type": "markdown",
      "metadata": {
        "id": "XZFxGgikgpZ6"
      },
      "source": [
        "Note that because the benchmark dataset has been created, these steps are only run once."
      ]
    }
  ],
  "metadata": {
    "colab": {
      "authorship_tag": "ABX9TyM7hl6o2zmExojUNlXbnlu/",
      "include_colab_link": true,
      "provenance": []
    },
    "kernelspec": {
      "display_name": "Python 3",
      "name": "python3"
    },
    "language_info": {
      "name": "python"
    }
  },
  "nbformat": 4,
  "nbformat_minor": 0
}
